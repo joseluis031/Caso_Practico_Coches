{
 "cells": [
  {
   "cell_type": "code",
   "execution_count": 1,
   "metadata": {},
   "outputs": [],
   "source": [
    "import pandas as pd\n"
   ]
  },
  {
   "cell_type": "markdown",
   "metadata": {},
   "source": [
    "Vamos a ver si hay valores nulos"
   ]
  },
  {
   "cell_type": "code",
   "execution_count": 20,
   "metadata": {},
   "outputs": [
    {
     "name": "stdout",
     "output_type": "stream",
     "text": [
      "Valores nulos por columna:\n",
      "CODE                   0\n",
      "PRODUCTO               0\n",
      "TIPO_CARROCERIA        0\n",
      "COMBUSTIBLE            0\n",
      "Potencia_              0\n",
      "TRANS                  0\n",
      "FORMA_PAGO             0\n",
      "ESTADO_CIVIL         890\n",
      "GENERO               860\n",
      "OcupaciOn              0\n",
      "PROVINCIA              0\n",
      "Campanna1              0\n",
      "Campanna2              0\n",
      "Campanna3              0\n",
      "Zona _Renta        13178\n",
      "REV_Garantia           0\n",
      "Averia_grave           1\n",
      "QUEJA_CAC              0\n",
      "EDAD_COCHE             0\n",
      "COSTE_VENTA            0\n",
      "km_anno                0\n",
      "Mas_1_coche            0\n",
      "Revisiones             0\n",
      "Edad Cliente           0\n",
      "Tiempo                 0\n",
      "dtype: int64\n"
     ]
    }
   ],
   "source": [
    "# Cargar el archivo CSV\n",
    "df = pd.read_csv(\"cars.csv\", delimiter=\";\")\n",
    "\n",
    "# Verificar si hay filas con valores nulos\n",
    "null_data = df.isnull().sum()\n",
    "\n",
    "# Mostrar el resultado de cuántos valores nulos hay en cada columna\n",
    "print(\"Valores nulos por columna:\")\n",
    "print(null_data)\n",
    "\n",
    "# Eliminar las filas con valores nulos\n",
    "df2 = df.dropna()\n",
    "\n",
    "# Guardar el DataFrame limpio en un nuevo archivo CSV\n",
    "df2.to_csv(\"cars_cleaned.csv\", index=False)"
   ]
  },
  {
   "cell_type": "markdown",
   "metadata": {},
   "source": [
    "Hay valores nulos, los quitamos y hacemos un nuevo csv"
   ]
  },
  {
   "cell_type": "markdown",
   "metadata": {},
   "source": [
    "Vamos a ver si hay valores que no se corresponden con las variables de cada columna"
   ]
  },
  {
   "cell_type": "code",
   "execution_count": 21,
   "metadata": {},
   "outputs": [
    {
     "name": "stdout",
     "output_type": "stream",
     "text": [
      "Valores únicos en la columna 'CODE':\n",
      "['CLI1' 'CLI2' 'CLI3' ... 'CLI57898' 'CLI57952' 'CLI58038']\n",
      "\n",
      "\n",
      "Valores únicos en la columna 'PRODUCTO':\n",
      "['A' 'B' 'C' 'H' 'J' 'D' 'I' 'E' 'F' 'K' 'G']\n",
      "\n",
      "\n",
      "Valores únicos en la columna 'TIPO_CARROCERIA':\n",
      "['TIPO1' 'TIPO6' 'TIPO4' 'TIPO7' 'TIPO8' 'TIPO2' 'TIPO3' 'TIPO5']\n",
      "\n",
      "\n",
      "Valores únicos en la columna 'COMBUSTIBLE':\n",
      "['FUEL 1' 'FUEL 2']\n",
      "\n",
      "\n",
      "Valores únicos en la columna 'Potencia_':\n",
      "['Baja' 'Media' 'Alta']\n",
      "\n",
      "\n",
      "Valores únicos en la columna 'TRANS':\n",
      "['M' 'A']\n",
      "\n",
      "\n",
      "Valores únicos en la columna 'FORMA_PAGO':\n",
      "['Contado' 'Otros' 'Financiera Marca' 'Financiera Banco']\n",
      "\n",
      "\n",
      "Valores únicos en la columna 'ESTADO_CIVIL':\n",
      "['CASADO' 'SOLTERO' 'OTROS' 'EN PAREJA']\n",
      "\n",
      "\n",
      "Valores únicos en la columna 'GENERO':\n",
      "['M' 'F']\n",
      "\n",
      "\n",
      "Valores únicos en la columna 'OcupaciOn':\n",
      "['Empresa' 'Funcionario' 'Autonomo']\n",
      "\n",
      "\n",
      "Valores únicos en la columna 'PROVINCIA':\n",
      "['Asturias' 'Toledo' 'Lerida' 'Madrid' 'Santa Cruz de Tenerife'\n",
      " 'Pontevedra' 'Lacoruna' 'Barcelona' 'Guipuzcua' 'Valladolid' 'Castellon'\n",
      " 'Valencia' 'Las Palmas' 'La Rioja' 'Zaragoza' 'Alicante' 'Baleares'\n",
      " 'Leon' 'Cordoba' 'Lugo' 'Badajoz' 'Vizcaya' 'Sevilla' 'Guadalajara'\n",
      " 'Ciudad Real' 'Cantabria' 'Orense' 'Navarra' 'Gerona' 'Malaga' 'Jaen'\n",
      " 'Murcia' 'Burgos' 'Tarragona' 'Cuenca' 'Cadiz' 'Granada' 'Salamanca'\n",
      " 'Albacete' 'Almeria' 'Alava' 'Teruel' 'Segovia' 'Palencia' 'Huelva'\n",
      " 'Huesca' 'Zamora' 'Avila' 'Caceres' 'Melilla' 'Soria' 'Ceuta']\n",
      "\n",
      "\n",
      "Valores únicos en la columna 'Campanna1':\n",
      "['SI' 'NO']\n",
      "\n",
      "\n",
      "Valores únicos en la columna 'Campanna2':\n",
      "['NO' 'SI']\n",
      "\n",
      "\n",
      "Valores únicos en la columna 'Campanna3':\n",
      "['NO' 'SI']\n",
      "\n",
      "\n",
      "Valores únicos en la columna 'Zona _Renta':\n",
      "['Medio-Bajo' 'Medio' 'Alto' 'Otros']\n",
      "\n",
      "\n",
      "Valores únicos en la columna 'REV_Garantia':\n",
      "['NO DATA' 'SI']\n",
      "\n",
      "\n",
      "Valores únicos en la columna 'Averia_grave':\n",
      "['Averia muy grave' 'No' 'Averia leve' 'Averia grave']\n",
      "\n",
      "\n",
      "Valores únicos en la columna 'QUEJA_CAC':\n",
      "['SI' 'NO']\n",
      "\n",
      "\n"
     ]
    }
   ],
   "source": [
    "# Filtrar solo las columnas categóricas (tipo object)\n",
    "categorical_columns = df2.select_dtypes(include=['object']).columns\n",
    "\n",
    "# Mostrar los valores únicos de cada columna categórica\n",
    "for column in categorical_columns:\n",
    "    print(f\"Valores únicos en la columna '{column}':\")\n",
    "    print(df2[column].unique())\n",
    "    print(\"\\n\")\n"
   ]
  },
  {
   "cell_type": "markdown",
   "metadata": {},
   "source": [
    "Observamos que la columna REV Garantia no tiene datos en muchas filas (\"NO DATA\") por lo que vamos a considerar quitar esas filas\n",
    "\n",
    "También podemos observar que tanto la columna 'Zona _Renta' como la columna 'ESTADO_CIVIL' contiene los valores 'OTROS' los cuales por el momento vamos a dejar"
   ]
  },
  {
   "cell_type": "code",
   "execution_count": 17,
   "metadata": {},
   "outputs": [
    {
     "name": "stdout",
     "output_type": "stream",
     "text": [
      "Filas originales: 44119\n",
      "Filas después de eliminar 'NO DATA': 22572\n"
     ]
    }
   ],
   "source": [
    "# Eliminar las filas donde la columna 'REV_Garantia' tenga el valor 'NO DATA'\n",
    "df_cleaned = df2[df2['REV_Garantia'] != 'NO DATA']\n",
    "\n",
    "# Verificar si las filas han sido eliminadas correctamente\n",
    "print(f\"Filas originales: {df2.shape[0]}\")\n",
    "print(f\"Filas después de eliminar 'NO DATA': {df_cleaned.shape[0]}\")\n",
    "\n",
    "# Si lo deseas, puedes guardar el nuevo dataframe sin las filas\n",
    "df_cleaned.to_csv(\"cars_cleaned2.csv\", index=False, sep=\";\")"
   ]
  },
  {
   "cell_type": "markdown",
   "metadata": {},
   "source": [
    "Reducimos bastante el csv, quizas sea mejor no tener en cuenta esa columna y no reducir tantas filas\n",
    "\n",
    "Vamos a probar y guardar en otro CSV"
   ]
  },
  {
   "cell_type": "code",
   "execution_count": 22,
   "metadata": {},
   "outputs": [
    {
     "name": "stdout",
     "output_type": "stream",
     "text": [
      "Index(['CODE', 'PRODUCTO', 'TIPO_CARROCERIA', 'COMBUSTIBLE', 'Potencia_',\n",
      "       'TRANS', 'FORMA_PAGO', 'ESTADO_CIVIL', 'GENERO', 'OcupaciOn',\n",
      "       'PROVINCIA', 'Campanna1', 'Campanna2', 'Campanna3', 'Zona _Renta',\n",
      "       'Averia_grave', 'QUEJA_CAC', 'EDAD_COCHE', 'COSTE_VENTA', 'km_anno',\n",
      "       'Mas_1_coche', 'Revisiones', 'Edad Cliente', 'Tiempo'],\n",
      "      dtype='object')\n"
     ]
    }
   ],
   "source": [
    "# Eliminar la columna 'REV_Garantia'\n",
    "df3 = df2.drop(columns=['REV_Garantia'])\n",
    "\n",
    "# Verificar que la columna ha sido eliminada\n",
    "print(df3.columns)\n",
    "\n",
    "# Si lo deseas, puedes guardar el DataFrame sin la columna\n",
    "df3.to_csv(\"cars_sin_REV_Garantia.csv\", index=False, sep=\";\")"
   ]
  }
 ],
 "metadata": {
  "kernelspec": {
   "display_name": "Python 3",
   "language": "python",
   "name": "python3"
  },
  "language_info": {
   "codemirror_mode": {
    "name": "ipython",
    "version": 3
   },
   "file_extension": ".py",
   "mimetype": "text/x-python",
   "name": "python",
   "nbconvert_exporter": "python",
   "pygments_lexer": "ipython3",
   "version": "3.10.0"
  }
 },
 "nbformat": 4,
 "nbformat_minor": 2
}
