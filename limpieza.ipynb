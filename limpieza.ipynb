{
 "cells": [
  {
   "cell_type": "code",
   "execution_count": 1,
   "metadata": {},
   "outputs": [],
   "source": [
    "import pandas as pd\n"
   ]
  },
  {
   "cell_type": "markdown",
   "metadata": {},
   "source": [
    "Vamos a ver si hay valores nulos"
   ]
  },
  {
   "cell_type": "code",
   "execution_count": 15,
   "metadata": {},
   "outputs": [
    {
     "name": "stdout",
     "output_type": "stream",
     "text": [
      "Valores nulos por columna:\n",
      "CODE                   0\n",
      "PRODUCTO               0\n",
      "TIPO_CARROCERIA        0\n",
      "COMBUSTIBLE            0\n",
      "Potencia_              0\n",
      "TRANS                  0\n",
      "FORMA_PAGO             0\n",
      "ESTADO_CIVIL         890\n",
      "GENERO               860\n",
      "OcupaciOn              0\n",
      "PROVINCIA              0\n",
      "Campanna1              0\n",
      "Campanna2              0\n",
      "Campanna3              0\n",
      "Zona _Renta        13178\n",
      "REV_Garantia           0\n",
      "Averia_grave           1\n",
      "QUEJA_CAC              0\n",
      "EDAD_COCHE             0\n",
      "COSTE_VENTA            0\n",
      "km_anno                0\n",
      "Mas_1_coche            0\n",
      "Revisiones             0\n",
      "Edad Cliente           0\n",
      "Tiempo                 0\n",
      "dtype: int64\n"
     ]
    }
   ],
   "source": [
    "# Cargar el archivo CSV\n",
    "df = pd.read_csv(\"cars.csv\", delimiter=\";\")\n",
    "\n",
    "# Verificar si hay filas con valores nulos\n",
    "null_data = df.isnull().sum()\n",
    "\n",
    "# Mostrar el resultado de cuántos valores nulos hay en cada columna\n",
    "print(\"Valores nulos por columna:\")\n",
    "print(null_data)\n",
    "\n",
    "# Eliminar las filas con valores nulos\n",
    "df2 = df.dropna()\n",
    "\n",
    "# Guardar el DataFrame limpio en un nuevo archivo CSV\n",
    "df2.to_csv(\"cars_cleaned.csv\", index=False)"
   ]
  },
  {
   "cell_type": "markdown",
   "metadata": {},
   "source": [
    "Hay valores nulos, los quitamos y hacemos un nuevo csv"
   ]
  },
  {
   "cell_type": "markdown",
   "metadata": {},
   "source": [
    "Vamos a ver si hay valores que no se corresponden con las variables de cada columna"
   ]
  },
  {
   "cell_type": "code",
   "execution_count": 16,
   "metadata": {},
   "outputs": [
    {
     "name": "stdout",
     "output_type": "stream",
     "text": [
      "Valores únicos en la columna 'CODE':\n",
      "['CLI1' 'CLI2' 'CLI3' ... 'CLI57898' 'CLI57952' 'CLI58038']\n",
      "\n",
      "\n",
      "Valores únicos en la columna 'PRODUCTO':\n",
      "['A' 'B' 'C' 'H' 'J' 'D' 'I' 'E' 'F' 'K' 'G']\n",
      "\n",
      "\n",
      "Valores únicos en la columna 'TIPO_CARROCERIA':\n",
      "['TIPO1' 'TIPO6' 'TIPO4' 'TIPO7' 'TIPO8' 'TIPO2' 'TIPO3' 'TIPO5']\n",
      "\n",
      "\n",
      "Valores únicos en la columna 'COMBUSTIBLE':\n",
      "['FUEL 1' 'FUEL 2']\n",
      "\n",
      "\n",
      "Valores únicos en la columna 'Potencia_':\n",
      "['Baja' 'Media' 'Alta']\n",
      "\n",
      "\n",
      "Valores únicos en la columna 'TRANS':\n",
      "['M' 'A']\n",
      "\n",
      "\n",
      "Valores únicos en la columna 'FORMA_PAGO':\n",
      "['Contado' 'Otros' 'Financiera Marca' 'Financiera Banco']\n",
      "\n",
      "\n",
      "Valores únicos en la columna 'ESTADO_CIVIL':\n",
      "['CASADO' 'SOLTERO' 'OTROS' 'EN PAREJA']\n",
      "\n",
      "\n",
      "Valores únicos en la columna 'GENERO':\n",
      "['M' 'F']\n",
      "\n",
      "\n",
      "Valores únicos en la columna 'OcupaciOn':\n",
      "['Empresa' 'Funcionario' 'Autonomo']\n",
      "\n",
      "\n",
      "Valores únicos en la columna 'PROVINCIA':\n",
      "['Asturias' 'Toledo' 'Lerida' 'Madrid' 'Santa Cruz de Tenerife'\n",
      " 'Pontevedra' 'Lacoruna' 'Barcelona' 'Guipuzcua' 'Valladolid' 'Castellon'\n",
      " 'Valencia' 'Las Palmas' 'La Rioja' 'Zaragoza' 'Alicante' 'Baleares'\n",
      " 'Leon' 'Cordoba' 'Lugo' 'Badajoz' 'Vizcaya' 'Sevilla' 'Guadalajara'\n",
      " 'Ciudad Real' 'Cantabria' 'Orense' 'Navarra' 'Gerona' 'Malaga' 'Jaen'\n",
      " 'Murcia' 'Burgos' 'Tarragona' 'Cuenca' 'Cadiz' 'Granada' 'Salamanca'\n",
      " 'Albacete' 'Almeria' 'Alava' 'Teruel' 'Segovia' 'Palencia' 'Huelva'\n",
      " 'Huesca' 'Zamora' 'Avila' 'Caceres' 'Melilla' 'Soria' 'Ceuta']\n",
      "\n",
      "\n",
      "Valores únicos en la columna 'Campanna1':\n",
      "['SI' 'NO']\n",
      "\n",
      "\n",
      "Valores únicos en la columna 'Campanna2':\n",
      "['NO' 'SI']\n",
      "\n",
      "\n",
      "Valores únicos en la columna 'Campanna3':\n",
      "['NO' 'SI']\n",
      "\n",
      "\n",
      "Valores únicos en la columna 'Zona _Renta':\n",
      "['Medio-Bajo' 'Medio' 'Alto' 'Otros']\n",
      "\n",
      "\n",
      "Valores únicos en la columna 'REV_Garantia':\n",
      "['NO DATA' 'SI']\n",
      "\n",
      "\n",
      "Valores únicos en la columna 'Averia_grave':\n",
      "['Averia muy grave' 'No' 'Averia leve' 'Averia grave']\n",
      "\n",
      "\n",
      "Valores únicos en la columna 'QUEJA_CAC':\n",
      "['SI' 'NO']\n",
      "\n",
      "\n"
     ]
    }
   ],
   "source": [
    "# Filtrar solo las columnas categóricas (tipo object)\n",
    "categorical_columns = df2.select_dtypes(include=['object']).columns\n",
    "\n",
    "# Mostrar los valores únicos de cada columna categórica\n",
    "for column in categorical_columns:\n",
    "    print(f\"Valores únicos en la columna '{column}':\")\n",
    "    print(df2[column].unique())\n",
    "    print(\"\\n\")\n"
   ]
  },
  {
   "cell_type": "markdown",
   "metadata": {},
   "source": [
    "Observamos que la columna REV Garantia no tiene datos en muchas filas (\"NO DATA\") por lo que vamos a considerar quitar esas filas\n",
    "\n",
    "También podemos observar que tanto la columna 'Zona _Renta' como la columna 'ESTADO_CIVIL' contiene los valores 'OTROS' los cuales por el momento vamos a dejar"
   ]
  },
  {
   "cell_type": "code",
   "execution_count": 17,
   "metadata": {},
   "outputs": [
    {
     "name": "stdout",
     "output_type": "stream",
     "text": [
      "Filas originales: 44119\n",
      "Filas después de eliminar 'NO DATA': 22572\n"
     ]
    }
   ],
   "source": [
    "# Eliminar las filas donde la columna 'REV_Garantia' tenga el valor 'NO DATA'\n",
    "df_cleaned = df2[df2['REV_Garantia'] != 'NO DATA']\n",
    "\n",
    "# Verificar si las filas han sido eliminadas correctamente\n",
    "print(f\"Filas originales: {df2.shape[0]}\")\n",
    "print(f\"Filas después de eliminar 'NO DATA': {df_cleaned.shape[0]}\")\n",
    "\n",
    "# Si lo deseas, puedes guardar el nuevo dataframe sin las filas\n",
    "df_cleaned.to_csv(\"cars_cleaned2.csv\", index=False, sep=\";\")"
   ]
  },
  {
   "cell_type": "markdown",
   "metadata": {},
   "source": [
    "Reducimos bastante el csv, quizas sea mejor no tener en cuenta esa columna y no reducir tantas filas\n",
    "\n",
    "Vamos a probar y guardar en otro CSV"
   ]
  },
  {
   "cell_type": "code",
   "execution_count": 18,
   "metadata": {},
   "outputs": [
    {
     "ename": "KeyError",
     "evalue": "\"['REV_Garantia'] not found in axis\"",
     "output_type": "error",
     "traceback": [
      "\u001b[1;31m---------------------------------------------------------------------------\u001b[0m",
      "\u001b[1;31mKeyError\u001b[0m                                  Traceback (most recent call last)",
      "Cell \u001b[1;32mIn[18], line 3\u001b[0m\n\u001b[0;32m      1\u001b[0m \u001b[38;5;66;03m# Eliminar la columna 'REV_Garantia'\u001b[39;00m\n\u001b[0;32m      2\u001b[0m df2\u001b[38;5;241m=\u001b[39m pd\u001b[38;5;241m.\u001b[39mread_csv(\u001b[38;5;124m\"\u001b[39m\u001b[38;5;124mcars_cleaned.csv\u001b[39m\u001b[38;5;124m\"\u001b[39m, delimiter\u001b[38;5;241m=\u001b[39m\u001b[38;5;124m\"\u001b[39m\u001b[38;5;124m;\u001b[39m\u001b[38;5;124m\"\u001b[39m)\n\u001b[1;32m----> 3\u001b[0m df3 \u001b[38;5;241m=\u001b[39m \u001b[43mdf2\u001b[49m\u001b[38;5;241;43m.\u001b[39;49m\u001b[43mdrop\u001b[49m\u001b[43m(\u001b[49m\u001b[43mcolumns\u001b[49m\u001b[38;5;241;43m=\u001b[39;49m\u001b[43m[\u001b[49m\u001b[38;5;124;43m'\u001b[39;49m\u001b[38;5;124;43mREV_Garantia\u001b[39;49m\u001b[38;5;124;43m'\u001b[39;49m\u001b[43m]\u001b[49m\u001b[43m)\u001b[49m\n\u001b[0;32m      5\u001b[0m \u001b[38;5;66;03m# Verificar que la columna ha sido eliminada\u001b[39;00m\n\u001b[0;32m      6\u001b[0m \u001b[38;5;28mprint\u001b[39m(df3\u001b[38;5;241m.\u001b[39mcolumns)\n",
      "File \u001b[1;32mc:\\Users\\usuario\\AppData\\Local\\Programs\\Python\\Python310\\lib\\site-packages\\pandas\\util\\_decorators.py:311\u001b[0m, in \u001b[0;36mdeprecate_nonkeyword_arguments.<locals>.decorate.<locals>.wrapper\u001b[1;34m(*args, **kwargs)\u001b[0m\n\u001b[0;32m    305\u001b[0m \u001b[38;5;28;01mif\u001b[39;00m \u001b[38;5;28mlen\u001b[39m(args) \u001b[38;5;241m>\u001b[39m num_allow_args:\n\u001b[0;32m    306\u001b[0m     warnings\u001b[38;5;241m.\u001b[39mwarn(\n\u001b[0;32m    307\u001b[0m         msg\u001b[38;5;241m.\u001b[39mformat(arguments\u001b[38;5;241m=\u001b[39marguments),\n\u001b[0;32m    308\u001b[0m         \u001b[38;5;167;01mFutureWarning\u001b[39;00m,\n\u001b[0;32m    309\u001b[0m         stacklevel\u001b[38;5;241m=\u001b[39mstacklevel,\n\u001b[0;32m    310\u001b[0m     )\n\u001b[1;32m--> 311\u001b[0m \u001b[38;5;28;01mreturn\u001b[39;00m func(\u001b[38;5;241m*\u001b[39margs, \u001b[38;5;241m*\u001b[39m\u001b[38;5;241m*\u001b[39mkwargs)\n",
      "File \u001b[1;32mc:\\Users\\usuario\\AppData\\Local\\Programs\\Python\\Python310\\lib\\site-packages\\pandas\\core\\frame.py:4954\u001b[0m, in \u001b[0;36mDataFrame.drop\u001b[1;34m(self, labels, axis, index, columns, level, inplace, errors)\u001b[0m\n\u001b[0;32m   4806\u001b[0m \u001b[38;5;129m@deprecate_nonkeyword_arguments\u001b[39m(version\u001b[38;5;241m=\u001b[39m\u001b[38;5;28;01mNone\u001b[39;00m, allowed_args\u001b[38;5;241m=\u001b[39m[\u001b[38;5;124m\"\u001b[39m\u001b[38;5;124mself\u001b[39m\u001b[38;5;124m\"\u001b[39m, \u001b[38;5;124m\"\u001b[39m\u001b[38;5;124mlabels\u001b[39m\u001b[38;5;124m\"\u001b[39m])\n\u001b[0;32m   4807\u001b[0m \u001b[38;5;28;01mdef\u001b[39;00m \u001b[38;5;21mdrop\u001b[39m(\n\u001b[0;32m   4808\u001b[0m     \u001b[38;5;28mself\u001b[39m,\n\u001b[1;32m   (...)\u001b[0m\n\u001b[0;32m   4815\u001b[0m     errors: \u001b[38;5;28mstr\u001b[39m \u001b[38;5;241m=\u001b[39m \u001b[38;5;124m\"\u001b[39m\u001b[38;5;124mraise\u001b[39m\u001b[38;5;124m\"\u001b[39m,\n\u001b[0;32m   4816\u001b[0m ):\n\u001b[0;32m   4817\u001b[0m     \u001b[38;5;124;03m\"\"\"\u001b[39;00m\n\u001b[0;32m   4818\u001b[0m \u001b[38;5;124;03m    Drop specified labels from rows or columns.\u001b[39;00m\n\u001b[0;32m   4819\u001b[0m \n\u001b[1;32m   (...)\u001b[0m\n\u001b[0;32m   4952\u001b[0m \u001b[38;5;124;03m            weight  1.0     0.8\u001b[39;00m\n\u001b[0;32m   4953\u001b[0m \u001b[38;5;124;03m    \"\"\"\u001b[39;00m\n\u001b[1;32m-> 4954\u001b[0m     \u001b[38;5;28;01mreturn\u001b[39;00m \u001b[38;5;28;43msuper\u001b[39;49m\u001b[43m(\u001b[49m\u001b[43m)\u001b[49m\u001b[38;5;241;43m.\u001b[39;49m\u001b[43mdrop\u001b[49m\u001b[43m(\u001b[49m\n\u001b[0;32m   4955\u001b[0m \u001b[43m        \u001b[49m\u001b[43mlabels\u001b[49m\u001b[38;5;241;43m=\u001b[39;49m\u001b[43mlabels\u001b[49m\u001b[43m,\u001b[49m\n\u001b[0;32m   4956\u001b[0m \u001b[43m        \u001b[49m\u001b[43maxis\u001b[49m\u001b[38;5;241;43m=\u001b[39;49m\u001b[43maxis\u001b[49m\u001b[43m,\u001b[49m\n\u001b[0;32m   4957\u001b[0m \u001b[43m        \u001b[49m\u001b[43mindex\u001b[49m\u001b[38;5;241;43m=\u001b[39;49m\u001b[43mindex\u001b[49m\u001b[43m,\u001b[49m\n\u001b[0;32m   4958\u001b[0m \u001b[43m        \u001b[49m\u001b[43mcolumns\u001b[49m\u001b[38;5;241;43m=\u001b[39;49m\u001b[43mcolumns\u001b[49m\u001b[43m,\u001b[49m\n\u001b[0;32m   4959\u001b[0m \u001b[43m        \u001b[49m\u001b[43mlevel\u001b[49m\u001b[38;5;241;43m=\u001b[39;49m\u001b[43mlevel\u001b[49m\u001b[43m,\u001b[49m\n\u001b[0;32m   4960\u001b[0m \u001b[43m        \u001b[49m\u001b[43minplace\u001b[49m\u001b[38;5;241;43m=\u001b[39;49m\u001b[43minplace\u001b[49m\u001b[43m,\u001b[49m\n\u001b[0;32m   4961\u001b[0m \u001b[43m        \u001b[49m\u001b[43merrors\u001b[49m\u001b[38;5;241;43m=\u001b[39;49m\u001b[43merrors\u001b[49m\u001b[43m,\u001b[49m\n\u001b[0;32m   4962\u001b[0m \u001b[43m    \u001b[49m\u001b[43m)\u001b[49m\n",
      "File \u001b[1;32mc:\\Users\\usuario\\AppData\\Local\\Programs\\Python\\Python310\\lib\\site-packages\\pandas\\core\\generic.py:4267\u001b[0m, in \u001b[0;36mNDFrame.drop\u001b[1;34m(self, labels, axis, index, columns, level, inplace, errors)\u001b[0m\n\u001b[0;32m   4265\u001b[0m \u001b[38;5;28;01mfor\u001b[39;00m axis, labels \u001b[38;5;129;01min\u001b[39;00m axes\u001b[38;5;241m.\u001b[39mitems():\n\u001b[0;32m   4266\u001b[0m     \u001b[38;5;28;01mif\u001b[39;00m labels \u001b[38;5;129;01mis\u001b[39;00m \u001b[38;5;129;01mnot\u001b[39;00m \u001b[38;5;28;01mNone\u001b[39;00m:\n\u001b[1;32m-> 4267\u001b[0m         obj \u001b[38;5;241m=\u001b[39m \u001b[43mobj\u001b[49m\u001b[38;5;241;43m.\u001b[39;49m\u001b[43m_drop_axis\u001b[49m\u001b[43m(\u001b[49m\u001b[43mlabels\u001b[49m\u001b[43m,\u001b[49m\u001b[43m \u001b[49m\u001b[43maxis\u001b[49m\u001b[43m,\u001b[49m\u001b[43m \u001b[49m\u001b[43mlevel\u001b[49m\u001b[38;5;241;43m=\u001b[39;49m\u001b[43mlevel\u001b[49m\u001b[43m,\u001b[49m\u001b[43m \u001b[49m\u001b[43merrors\u001b[49m\u001b[38;5;241;43m=\u001b[39;49m\u001b[43merrors\u001b[49m\u001b[43m)\u001b[49m\n\u001b[0;32m   4269\u001b[0m \u001b[38;5;28;01mif\u001b[39;00m inplace:\n\u001b[0;32m   4270\u001b[0m     \u001b[38;5;28mself\u001b[39m\u001b[38;5;241m.\u001b[39m_update_inplace(obj)\n",
      "File \u001b[1;32mc:\\Users\\usuario\\AppData\\Local\\Programs\\Python\\Python310\\lib\\site-packages\\pandas\\core\\generic.py:4311\u001b[0m, in \u001b[0;36mNDFrame._drop_axis\u001b[1;34m(self, labels, axis, level, errors, consolidate, only_slice)\u001b[0m\n\u001b[0;32m   4309\u001b[0m         new_axis \u001b[38;5;241m=\u001b[39m axis\u001b[38;5;241m.\u001b[39mdrop(labels, level\u001b[38;5;241m=\u001b[39mlevel, errors\u001b[38;5;241m=\u001b[39merrors)\n\u001b[0;32m   4310\u001b[0m     \u001b[38;5;28;01melse\u001b[39;00m:\n\u001b[1;32m-> 4311\u001b[0m         new_axis \u001b[38;5;241m=\u001b[39m \u001b[43maxis\u001b[49m\u001b[38;5;241;43m.\u001b[39;49m\u001b[43mdrop\u001b[49m\u001b[43m(\u001b[49m\u001b[43mlabels\u001b[49m\u001b[43m,\u001b[49m\u001b[43m \u001b[49m\u001b[43merrors\u001b[49m\u001b[38;5;241;43m=\u001b[39;49m\u001b[43merrors\u001b[49m\u001b[43m)\u001b[49m\n\u001b[0;32m   4312\u001b[0m     indexer \u001b[38;5;241m=\u001b[39m axis\u001b[38;5;241m.\u001b[39mget_indexer(new_axis)\n\u001b[0;32m   4314\u001b[0m \u001b[38;5;66;03m# Case for non-unique axis\u001b[39;00m\n\u001b[0;32m   4315\u001b[0m \u001b[38;5;28;01melse\u001b[39;00m:\n",
      "File \u001b[1;32mc:\\Users\\usuario\\AppData\\Local\\Programs\\Python\\Python310\\lib\\site-packages\\pandas\\core\\indexes\\base.py:6644\u001b[0m, in \u001b[0;36mIndex.drop\u001b[1;34m(self, labels, errors)\u001b[0m\n\u001b[0;32m   6642\u001b[0m \u001b[38;5;28;01mif\u001b[39;00m mask\u001b[38;5;241m.\u001b[39many():\n\u001b[0;32m   6643\u001b[0m     \u001b[38;5;28;01mif\u001b[39;00m errors \u001b[38;5;241m!=\u001b[39m \u001b[38;5;124m\"\u001b[39m\u001b[38;5;124mignore\u001b[39m\u001b[38;5;124m\"\u001b[39m:\n\u001b[1;32m-> 6644\u001b[0m         \u001b[38;5;28;01mraise\u001b[39;00m \u001b[38;5;167;01mKeyError\u001b[39;00m(\u001b[38;5;124mf\u001b[39m\u001b[38;5;124m\"\u001b[39m\u001b[38;5;132;01m{\u001b[39;00m\u001b[38;5;28mlist\u001b[39m(labels[mask])\u001b[38;5;132;01m}\u001b[39;00m\u001b[38;5;124m not found in axis\u001b[39m\u001b[38;5;124m\"\u001b[39m)\n\u001b[0;32m   6645\u001b[0m     indexer \u001b[38;5;241m=\u001b[39m indexer[\u001b[38;5;241m~\u001b[39mmask]\n\u001b[0;32m   6646\u001b[0m \u001b[38;5;28;01mreturn\u001b[39;00m \u001b[38;5;28mself\u001b[39m\u001b[38;5;241m.\u001b[39mdelete(indexer)\n",
      "\u001b[1;31mKeyError\u001b[0m: \"['REV_Garantia'] not found in axis\""
     ]
    }
   ],
   "source": [
    "# Eliminar la columna 'REV_Garantia'\n",
    "df2= pd.read_csv(\"cars_cleaned.csv\", delimiter=\";\")\n",
    "df3 = df2.drop(columns=['REV_Garantia'])\n",
    "\n",
    "# Verificar que la columna ha sido eliminada\n",
    "print(df3.columns)\n",
    "\n",
    "# Si lo deseas, puedes guardar el DataFrame sin la columna\n",
    "df3.to_csv(\"cars_sin_REV_Garantia.csv\", index=False, sep=\";\")"
   ]
  }
 ],
 "metadata": {
  "kernelspec": {
   "display_name": "Python 3",
   "language": "python",
   "name": "python3"
  },
  "language_info": {
   "codemirror_mode": {
    "name": "ipython",
    "version": 3
   },
   "file_extension": ".py",
   "mimetype": "text/x-python",
   "name": "python",
   "nbconvert_exporter": "python",
   "pygments_lexer": "ipython3",
   "version": "3.10.0"
  }
 },
 "nbformat": 4,
 "nbformat_minor": 2
}
